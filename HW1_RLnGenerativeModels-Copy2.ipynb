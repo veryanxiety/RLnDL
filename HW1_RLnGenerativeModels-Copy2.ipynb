{
 "cells": [
  {
   "cell_type": "markdown",
   "metadata": {},
   "source": [
    "## 0. Подготовительная часть ##"
   ]
  },
  {
   "cell_type": "code",
   "execution_count": 61,
   "metadata": {},
   "outputs": [],
   "source": [
    "import numpy as np\n",
    "import random\n",
    "import itertools\n",
    "\n",
    "import gym\n",
    "import matplotlib.pyplot as plt\n",
    "from tqdm import tqdm"
   ]
  },
  {
   "cell_type": "code",
   "execution_count": 15,
   "metadata": {},
   "outputs": [],
   "source": [
    "env = gym.make('Blackjack-v1', natural=True, sab=False, render_mode=\"rgb_array\")"
   ]
  },
  {
   "cell_type": "code",
   "execution_count": 47,
   "metadata": {},
   "outputs": [],
   "source": [
    "N_ITERS = 100000"
   ]
  },
  {
   "cell_type": "markdown",
   "metadata": {},
   "source": [
    "## 1. Часть первая с блекджеком и стратегиями ##"
   ]
  },
  {
   "cell_type": "code",
   "execution_count": 20,
   "metadata": {},
   "outputs": [],
   "source": [
    "def calc_reward(env, n_iters):\n",
    "    rewards = []\n",
    "    n_steps = []\n",
    "    for iterno in tqdm(range(n_iters)):\n",
    "        obs, _ = env.reset()\n",
    "        is_finished = False\n",
    "        current_points, delaers_points, is_usable_ace = obs\n",
    "        current_step = 0\n",
    "        current_reward = 0\n",
    "        while not is_finished:\n",
    "            to_hit = False\n",
    "            if current_points < 19:\n",
    "                to_hit = True\n",
    "            obs, reward, is_finished, info, _ = env.step(to_hit)\n",
    "            current_reward += reward\n",
    "            current_step += 1\n",
    "            \n",
    "        rewards.append(current_reward)\n",
    "        n_steps.append(current_step)\n",
    "        \n",
    "        rewards.append(current_reward)\n",
    "    return (rewards, n_steps)\n",
    "            "
   ]
  },
  {
   "cell_type": "code",
   "execution_count": 48,
   "metadata": {
    "scrolled": true
   },
   "outputs": [
    {
     "name": "stderr",
     "output_type": "stream",
     "text": [
      "100%|██████████| 100000/100000 [00:07<00:00, 13411.26it/s]\n"
     ]
    },
    {
     "name": "stdout",
     "output_type": "stream",
     "text": [
      "For easiest player (Stand if 19-21 else Hit) average reward is -0.6495 in 1.81198 steps\n"
     ]
    }
   ],
   "source": [
    "easiest_player = calc_reward(env, N_ITERS)\n",
    "avg_reward = np.mean(easiest_player[0])\n",
    "avg_steps = np.mean(easiest_player[1])\n",
    "print (f\"For easiest player (Stand if 19-21 else Hit) average reward is {avg_reward} in {avg_steps} steps\")"
   ]
  },
  {
   "cell_type": "code",
   "execution_count": 154,
   "metadata": {},
   "outputs": [],
   "source": [
    "def calc_reward_with_strategy(env, n_iters, strategy):\n",
    "    rewards = []\n",
    "    n_steps = []\n",
    "    for iterno in tqdm(range(n_iters)):\n",
    "        obs = env.reset()\n",
    "        is_finished = False\n",
    "        current_points, delaers_points, is_usable_ace = obs\n",
    "        current_step = 0\n",
    "        current_reward = 0\n",
    "        while not is_finished:\n",
    "            to_hit = strategy[obs]\n",
    "            obs, reward, is_finished, info = env.step(to_hit)\n",
    "            current_reward += reward\n",
    "            current_step += 1\n",
    "            \n",
    "        rewards.append(current_reward)\n",
    "        n_steps.append(current_step)\n",
    "        \n",
    "        rewards.append(current_reward)\n",
    "    return (rewards, n_steps)            "
   ]
  },
  {
   "cell_type": "code",
   "execution_count": 107,
   "metadata": {},
   "outputs": [],
   "source": [
    "def make_action(Q, state, action_list, eps):\n",
    "    action = random.choice(action_list)\n",
    "    if random.random() > eps:\n",
    "        strategy = dict(zip(Q.keys(), np.argmax(list(Q.values()), axis=1)))\n",
    "        action = strategy[state]\n",
    "        \n",
    "    return action  "
   ]
  },
  {
   "cell_type": "code",
   "execution_count": 152,
   "metadata": {},
   "outputs": [],
   "source": [
    "def Q_learning(env, action_list, Q, n_iters, alpha, eps, gamma):\n",
    "    for iterno in tqdm(range(n_iters)):\n",
    "        obs = env.reset()\n",
    "        is_finished = False\n",
    "        while not is_finished:\n",
    "            action = make_action(Q, obs, action_list, eps)\n",
    "            new_obs, reward, is_finished, info = env.step(action)\n",
    "            Q[obs][action] = Q[obs][action] + alpha * (reward + gamma * max(Q[new_obs]) - Q[obs][action])\n",
    "            obs = new_obs  \n",
    "    return Q"
   ]
  },
  {
   "cell_type": "code",
   "execution_count": 109,
   "metadata": {},
   "outputs": [],
   "source": [
    "action_list = (False, True)\n",
    "possible_points = list(range(4, 32))\n",
    "possible_cards = list(range(1, 12))\n",
    "\n",
    "obs_space = list(itertools.product(possible_points, possible_cards, action_list))"
   ]
  },
  {
   "cell_type": "code",
   "execution_count": 134,
   "metadata": {},
   "outputs": [],
   "source": [
    "alpha = 0.01\n",
    "eps = 0.1\n",
    "gamma = 0.5"
   ]
  },
  {
   "cell_type": "code",
   "execution_count": 135,
   "metadata": {},
   "outputs": [],
   "source": [
    "Q = dict(zip(obs_space, np.zeros((len(obs_space), len(action_list)))))"
   ]
  },
  {
   "cell_type": "code",
   "execution_count": 136,
   "metadata": {},
   "outputs": [
    {
     "name": "stderr",
     "output_type": "stream",
     "text": [
      "100%|██████████| 100000/100000 [00:43<00:00, 2321.75it/s]\n",
      "100%|██████████| 100000/100000 [00:07<00:00, 13243.75it/s]"
     ]
    },
    {
     "name": "stdout",
     "output_type": "stream",
     "text": [
      "For RL player average reward is -0.053965 in 1.65127 steps\n"
     ]
    },
    {
     "name": "stderr",
     "output_type": "stream",
     "text": [
      "\n"
     ]
    }
   ],
   "source": [
    "Q = Q_learning(env, action_list, Q, N_ITERS, alpha, eps, gamma)\n",
    "strategy = dict(zip(obs_space, np.argmax(list(Q.values()), axis=1)))\n",
    "rl_player = calc_reward_with_strategy(env, N_ITERS, strategy)\n",
    "\n",
    "avg_reward = np.mean(rl_player[0])\n",
    "avg_steps = np.mean(rl_player[1])\n",
    "print (f\"For RL player average reward is {avg_reward} in {avg_steps} steps\")"
   ]
  },
  {
   "cell_type": "code",
   "execution_count": 227,
   "metadata": {},
   "outputs": [],
   "source": [
    "def reward_while_learning(env, action_list, Q, n_iters, alpha, eps, gamma, step):\n",
    "    rewards = []\n",
    "    for iterno in range(n_iters):\n",
    "        obs = env.reset()\n",
    "        is_finished = False\n",
    "        while not is_finished:\n",
    "            action = make_action(Q, obs, action_list, eps)\n",
    "            new_obs, reward, is_finished, info = env.step(action)\n",
    "            Q[obs][action] = Q[obs][action] + alpha * (reward + gamma * max(Q[new_obs]) - Q[obs][action])\n",
    "            obs = new_obs\n",
    "        if iterno % step == 0:\n",
    "            strategy = dict(zip(obs_space, np.argmax(list(Q.values()), axis=1)))\n",
    "            current_player = calc_reward_with_strategy2(env, N_ITERS, strategy)\n",
    "            rewards.append(np.mean(current_player[0]))    \n",
    "    return rewards"
   ]
  },
  {
   "cell_type": "code",
   "execution_count": 142,
   "metadata": {},
   "outputs": [],
   "source": [
    "step = 500\n",
    "Q = dict(zip(obs_space, np.zeros((len(obs_space), len(action_list)))))\n",
    "mean_rewards = reward_while_learning(env, action_list, Q, N_ITERS, alpha, eps, gamma, step)"
   ]
  },
  {
   "cell_type": "code",
   "execution_count": 143,
   "metadata": {},
   "outputs": [],
   "source": [
    "def plot_rewards(mean_rewards, n_iters, step):\n",
    "    plt.figure(figsize=(10, 7))\n",
    "    indicies = np.arange(0, n_iters, step)\n",
    "    plt.plot(indicies, mean_rewards, linewidth=1.5)\n",
    "    plt.xlabel(\"Episodes played\")\n",
    "    plt.ylabel(\"Average reward\")\n",
    "    plt.title(\"Average reward during training\")\n",
    "    plt.xlim(left=0)\n",
    "    plt.xlim(right=n_iters)\n",
    "    plt.minorticks_on()\n",
    "    plt.grid(True)"
   ]
  },
  {
   "cell_type": "code",
   "execution_count": 145,
   "metadata": {},
   "outputs": [
    {
     "data": {
      "image/png": "[encoded data removed]",
      "text/plain": [
       "<Figure size 720x504 with 1 Axes>"
      ]
     },
     "metadata": {
      "needs_background": "light"
     },
     "output_type": "display_data"
    }
   ],
   "source": [
    "plot_rewards(mean_rewards, N_ITERS, step)"
   ]
  },
  {
   "cell_type": "markdown",
   "metadata": {},
   "source": [
    "Как видно, стратегия проигрышная, и рано или поздно, казино выиграет все, если банк игрока конечный"
   ]
  },
  {
   "cell_type": "markdown",
   "metadata": {},
   "source": [
    "## 2. Часть вторая, удвоенная ##"
   ]
  },
  {
   "cell_type": "code",
   "execution_count": 146,
   "metadata": {},
   "outputs": [],
   "source": [
    "from gym import spaces\n",
    "from gym.utils import seeding\n",
    "\n",
    "\n",
    "def cmp(a, b):\n",
    "    return float(a > b) - float(a < b)\n",
    "\n",
    "\n",
    "# 1 = Ace, 2-10 = Number cards, Jack/Queen/King = 10\n",
    "deck = [1, 2, 3, 4, 5, 6, 7, 8, 9, 10, 10, 10, 10]\n",
    "\n",
    "\n",
    "def draw_card(np_random):\n",
    "    return int(np_random.choice(deck))\n",
    "\n",
    "\n",
    "def draw_hand(np_random):\n",
    "    return [draw_card(np_random), draw_card(np_random)]\n",
    "\n",
    "\n",
    "def usable_ace(hand):  # Does this hand have a usable ace?\n",
    "    return 1 in hand and sum(hand) + 10 <= 21\n",
    "\n",
    "\n",
    "def sum_hand(hand):  # Return current hand total\n",
    "    if usable_ace(hand):\n",
    "        return sum(hand) + 10\n",
    "    return sum(hand)\n",
    "\n",
    "\n",
    "def is_bust(hand):  # Is this hand a bust?\n",
    "    return sum_hand(hand) > 21\n",
    "\n",
    "\n",
    "def score(hand):  # What is the score of this hand (0 if bust)\n",
    "    return 0 if is_bust(hand) else sum_hand(hand)\n",
    "\n",
    "\n",
    "def is_natural(hand):  # Is this hand a natural blackjack?\n",
    "    return sorted(hand) == [1, 10]\n",
    "\n",
    "\n",
    "class BlackjackDoubleEnv(gym.Env):\n",
    "    \"\"\"Simple blackjack environment\n",
    "    Blackjack is a card game where the goal is to obtain cards that sum to as\n",
    "    near as possible to 21 without going over.  They're playing against a fixed\n",
    "    dealer.\n",
    "    Face cards (Jack, Queen, King) have point value 10.\n",
    "    Aces can either count as 11 or 1, and it's called 'usable' at 11.\n",
    "    This game is placed with an infinite deck (or with replacement).\n",
    "    The game starts with dealer having one face up and one face down card, while\n",
    "    player having two face up cards. (Virtually for all Blackjack games today).\n",
    "    The player can request additional cards (hit=1) until they decide to stop\n",
    "    (stick=0) or exceed 21 (bust).\n",
    "    After the player sticks, the dealer reveals their facedown card, and draws\n",
    "    until their sum is 17 or greater.  If the dealer goes bust the player wins.\n",
    "    If neither player nor dealer busts, the outcome (win, lose, draw) is\n",
    "    decided by whose sum is closer to 21.  The reward for winning is +1,\n",
    "    drawing is 0, and losing is -1.\n",
    "    The observation of a 3-tuple of: the players current sum,\n",
    "    the dealer's one showing card (1-10 where 1 is ace),\n",
    "    and whether or not the player holds a usable ace (0 or 1).\n",
    "    This environment corresponds to the version of the blackjack problem\n",
    "    described in Example 5.1 in Reinforcement Learning: An Introduction\n",
    "    by Sutton and Barto.\n",
    "    http://incompleteideas.net/book/the-book-2nd.html\n",
    "    \"\"\"\n",
    "\n",
    "    def __init__(self, natural=False, sab=False):\n",
    "        self.action_space = spaces.Discrete(3)\n",
    "        self.observation_space = spaces.Tuple(\n",
    "            (spaces.Discrete(32), spaces.Discrete(11), spaces.Discrete(2))\n",
    "        )\n",
    "        self.seed()\n",
    "\n",
    "        # Flag to payout 1.5 on a \"natural\" blackjack win, like casino rules\n",
    "        # Ref: http://www.bicyclecards.com/how-to-play/blackjack/\n",
    "        self.natural = natural\n",
    "\n",
    "        # Flag for full agreement with the (Sutton and Barto, 2018) definition. Overrides self.natural\n",
    "        self.sab = sab\n",
    "\n",
    "    def seed(self, seed=None):\n",
    "        self.np_random, seed = seeding.np_random(seed)\n",
    "        return [seed]\n",
    "\n",
    "    def step(self, action):\n",
    "        assert self.action_space.contains(action)\n",
    "        if action == 0:  # hit: add a card to players hand and return\n",
    "            self.player.append(draw_card(self.np_random))\n",
    "            if is_bust(self.player):\n",
    "                done = True\n",
    "                reward = -1.0\n",
    "            else:\n",
    "                done = False\n",
    "                reward = 0.0\n",
    "        elif action == 1:  # stick: play out the dealers hand, and score\n",
    "            done = True\n",
    "            while sum_hand(self.dealer) < 17:\n",
    "                self.dealer.append(draw_card(self.np_random))\n",
    "            reward = cmp(score(self.player), score(self.dealer))\n",
    "            if self.sab and is_natural(self.player) and not is_natural(self.dealer):\n",
    "                # Player automatically wins. Rules consistent with S&B\n",
    "                reward = 1.0\n",
    "            elif (\n",
    "                not self.sab\n",
    "                and self.natural\n",
    "                and is_natural(self.player)\n",
    "                and reward == 1.0\n",
    "            ):\n",
    "                # Natural gives extra points, but doesn't autowin. Legacy implementation\n",
    "                reward = 1.5\n",
    "        else: # double: add a card to players hand, end the game, double reward\n",
    "            self.player.append(draw_card(self.np_random))\n",
    "            done = True\n",
    "            while sum_hand(self.dealer) < 17:\n",
    "                self.dealer.append(draw_card(self.np_random))\n",
    "            reward = cmp(score(self.player), score(self.dealer)) * 2\n",
    "             \n",
    "        return self._get_obs(), reward, done, {}\n",
    "\n",
    "    def _get_obs(self):\n",
    "        return (sum_hand(self.player), self.dealer[0], usable_ace(self.player))\n",
    "\n",
    "    def reset(self):\n",
    "        self.dealer = draw_hand(self.np_random)\n",
    "        self.player = draw_hand(self.np_random)\n",
    "        return self._get_obs()"
   ]
  },
  {
   "cell_type": "code",
   "execution_count": 147,
   "metadata": {},
   "outputs": [],
   "source": [
    "env = BlackjackDoubleEnv()\n",
    "env.natural = True\n",
    "\n",
    "action_list = (0, 1, 2)\n",
    "Q = dict(zip(obs_space, np.zeros((len(obs_space), len(action_list)))))"
   ]
  },
  {
   "cell_type": "code",
   "execution_count": 208,
   "metadata": {},
   "outputs": [],
   "source": [
    "alpha = 0.05\n",
    "eps = 0.1\n",
    "gamma = 0.1"
   ]
  },
  {
   "cell_type": "code",
   "execution_count": 209,
   "metadata": {
    "scrolled": true
   },
   "outputs": [
    {
     "name": "stderr",
     "output_type": "stream",
     "text": [
      "100%|██████████| 100000/100000 [00:53<00:00, 1860.57it/s]\n",
      "100%|██████████| 100000/100000 [00:06<00:00, 15278.86it/s]"
     ]
    },
    {
     "name": "stdout",
     "output_type": "stream",
     "text": [
      "For RL player with doubling average reward is -0.032765 in 1.57031 steps\n"
     ]
    },
    {
     "name": "stderr",
     "output_type": "stream",
     "text": [
      "\n"
     ]
    }
   ],
   "source": [
    "Q = Q_learning(env, action_list, Q, N_ITERS, alpha, eps, gamma)\n",
    "strategy = dict(zip(obs_space, np.argmax(list(Q.values()), axis=1)))\n",
    "rl_can_double_player = calc_reward_with_strategy(env, N_ITERS, strategy)\n",
    "\n",
    "avg_reward = np.mean(rl_can_double_player[0])\n",
    "avg_steps = np.mean(rl_can_double_player[1])\n",
    "print (f\"For RL player with doubling average reward is {avg_reward} in {avg_steps} steps\")"
   ]
  },
  {
   "cell_type": "code",
   "execution_count": 211,
   "metadata": {},
   "outputs": [
    {
     "name": "stderr",
     "output_type": "stream",
     "text": [
      "100%|██████████| 100000/100000 [00:06<00:00, 16104.56it/s]\n",
      "100%|██████████| 100000/100000 [00:05<00:00, 17194.12it/s]\n",
      "100%|██████████| 100000/100000 [00:05<00:00, 16998.66it/s]\n",
      "100%|██████████| 100000/100000 [00:05<00:00, 17075.46it/s]\n",
      "100%|██████████| 100000/100000 [00:06<00:00, 14877.82it/s]\n",
      "100%|██████████| 100000/100000 [00:06<00:00, 15609.31it/s]\n",
      "100%|██████████| 100000/100000 [00:05<00:00, 17082.63it/s]\n",
      "100%|██████████| 100000/100000 [00:05<00:00, 16947.39it/s]\n",
      "100%|██████████| 100000/100000 [00:05<00:00, 16971.04it/s]\n",
      "100%|██████████| 100000/100000 [00:05<00:00, 16818.15it/s]\n",
      "100%|██████████| 100000/100000 [00:05<00:00, 16890.16it/s]\n",
      "100%|██████████| 100000/100000 [00:06<00:00, 16189.75it/s]\n",
      "100%|██████████| 100000/100000 [00:06<00:00, 15774.50it/s]\n",
      "100%|██████████| 100000/100000 [00:06<00:00, 16185.02it/s]\n",
      "100%|██████████| 100000/100000 [00:06<00:00, 16125.22it/s]\n",
      "100%|██████████| 100000/100000 [00:06<00:00, 15569.15it/s]\n",
      "100%|██████████| 100000/100000 [00:07<00:00, 13509.55it/s]\n",
      "100%|██████████| 100000/100000 [00:08<00:00, 12062.42it/s]\n",
      "100%|██████████| 100000/100000 [00:07<00:00, 13837.00it/s]\n",
      "100%|██████████| 100000/100000 [00:07<00:00, 13269.03it/s]\n",
      "100%|██████████| 100000/100000 [00:07<00:00, 12757.70it/s]\n",
      "100%|██████████| 100000/100000 [00:07<00:00, 14045.08it/s]\n",
      "100%|██████████| 100000/100000 [00:07<00:00, 14214.31it/s]\n",
      "100%|██████████| 100000/100000 [00:06<00:00, 14503.68it/s]\n",
      "100%|██████████| 100000/100000 [00:06<00:00, 15845.21it/s]\n",
      "100%|██████████| 100000/100000 [00:07<00:00, 13880.68it/s]\n",
      "100%|██████████| 100000/100000 [00:06<00:00, 16188.61it/s]\n",
      "100%|██████████| 100000/100000 [00:06<00:00, 15448.28it/s]\n",
      "100%|██████████| 100000/100000 [00:06<00:00, 15584.79it/s]\n",
      "100%|██████████| 100000/100000 [00:06<00:00, 15632.50it/s]\n",
      "100%|██████████| 100000/100000 [00:06<00:00, 15547.28it/s]\n",
      "100%|██████████| 100000/100000 [00:05<00:00, 16949.21it/s]\n",
      "100%|██████████| 100000/100000 [00:05<00:00, 17023.72it/s]\n",
      "100%|██████████| 100000/100000 [00:05<00:00, 16786.15it/s]\n",
      "100%|██████████| 100000/100000 [00:06<00:00, 16559.90it/s]\n",
      "100%|██████████| 100000/100000 [00:06<00:00, 16529.07it/s]\n",
      "100%|██████████| 100000/100000 [00:06<00:00, 15714.26it/s]\n",
      "100%|██████████| 100000/100000 [00:06<00:00, 15586.93it/s]\n",
      "100%|██████████| 100000/100000 [00:05<00:00, 17516.07it/s]\n",
      "100%|██████████| 100000/100000 [00:05<00:00, 17224.40it/s]\n",
      "100%|██████████| 100000/100000 [00:06<00:00, 15875.28it/s]\n",
      "100%|██████████| 100000/100000 [00:06<00:00, 14622.08it/s]\n",
      "100%|██████████| 100000/100000 [00:06<00:00, 15908.04it/s]\n",
      "100%|██████████| 100000/100000 [00:06<00:00, 15957.54it/s]\n",
      "100%|██████████| 100000/100000 [00:06<00:00, 15625.96it/s]\n",
      "100%|██████████| 100000/100000 [00:06<00:00, 16025.51it/s]\n",
      "100%|██████████| 100000/100000 [00:07<00:00, 13625.22it/s]\n",
      "100%|██████████| 100000/100000 [00:06<00:00, 15207.18it/s]\n",
      "100%|██████████| 100000/100000 [00:05<00:00, 16983.80it/s]\n",
      "100%|██████████| 100000/100000 [00:06<00:00, 14575.13it/s]\n",
      "100%|██████████| 100000/100000 [00:06<00:00, 16145.62it/s]\n",
      "100%|██████████| 100000/100000 [00:06<00:00, 16412.65it/s]\n",
      "100%|██████████| 100000/100000 [00:05<00:00, 16903.51it/s]\n",
      "100%|██████████| 100000/100000 [00:05<00:00, 17255.62it/s]\n",
      "100%|██████████| 100000/100000 [00:06<00:00, 15341.42it/s]\n",
      "100%|██████████| 100000/100000 [00:05<00:00, 16754.89it/s]\n",
      "100%|██████████| 100000/100000 [00:05<00:00, 17089.03it/s]\n",
      "100%|██████████| 100000/100000 [00:05<00:00, 17466.27it/s]\n",
      "100%|██████████| 100000/100000 [00:05<00:00, 17446.85it/s]\n",
      "100%|██████████| 100000/100000 [00:05<00:00, 17646.33it/s]\n",
      "100%|██████████| 100000/100000 [00:05<00:00, 17542.82it/s]\n",
      "100%|██████████| 100000/100000 [00:05<00:00, 17429.03it/s]\n",
      "100%|██████████| 100000/100000 [00:05<00:00, 17386.81it/s]\n",
      "100%|██████████| 100000/100000 [00:05<00:00, 17422.77it/s]\n",
      "100%|██████████| 100000/100000 [00:06<00:00, 16059.17it/s]\n",
      "100%|██████████| 100000/100000 [00:05<00:00, 17429.46it/s]\n",
      "100%|██████████| 100000/100000 [00:05<00:00, 17296.21it/s]\n",
      "100%|██████████| 100000/100000 [00:06<00:00, 16406.22it/s]\n",
      "100%|██████████| 100000/100000 [00:05<00:00, 17372.05it/s]\n",
      "100%|██████████| 100000/100000 [00:05<00:00, 17501.94it/s]\n",
      "100%|██████████| 100000/100000 [00:05<00:00, 17427.45it/s]\n",
      "100%|██████████| 100000/100000 [00:04<00:00, 20710.01it/s]\n",
      "100%|██████████| 100000/100000 [00:06<00:00, 15352.66it/s]\n",
      "100%|██████████| 100000/100000 [00:05<00:00, 17245.71it/s]\n",
      "100%|██████████| 100000/100000 [00:05<00:00, 19645.67it/s]\n",
      "100%|██████████| 100000/100000 [00:05<00:00, 18007.90it/s]\n",
      "100%|██████████| 100000/100000 [00:06<00:00, 16066.95it/s]\n",
      "100%|██████████| 100000/100000 [00:07<00:00, 13909.82it/s]\n",
      "100%|██████████| 100000/100000 [00:07<00:00, 13409.74it/s]\n",
      "100%|██████████| 100000/100000 [00:05<00:00, 18620.89it/s]\n",
      "100%|██████████| 100000/100000 [00:05<00:00, 19509.20it/s]\n",
      "100%|██████████| 100000/100000 [00:05<00:00, 18662.37it/s]\n",
      "100%|██████████| 100000/100000 [00:05<00:00, 19060.18it/s]\n",
      "100%|██████████| 100000/100000 [00:05<00:00, 19924.82it/s]\n",
      "100%|██████████| 100000/100000 [00:05<00:00, 19855.42it/s]\n",
      "100%|██████████| 100000/100000 [00:06<00:00, 14349.53it/s]\n",
      "100%|██████████| 100000/100000 [00:05<00:00, 17929.67it/s]\n",
      "100%|██████████| 100000/100000 [00:08<00:00, 12398.30it/s]\n",
      "100%|██████████| 100000/100000 [00:07<00:00, 13068.27it/s]\n",
      "100%|██████████| 100000/100000 [00:09<00:00, 10849.56it/s]\n",
      "100%|██████████| 100000/100000 [00:07<00:00, 14015.86it/s]\n",
      "100%|██████████| 100000/100000 [00:08<00:00, 12293.61it/s]\n",
      "100%|██████████| 100000/100000 [00:07<00:00, 13940.21it/s]\n",
      "100%|██████████| 100000/100000 [00:08<00:00, 11333.66it/s]\n",
      "100%|██████████| 100000/100000 [00:08<00:00, 11381.91it/s]\n",
      "100%|██████████| 100000/100000 [00:07<00:00, 14124.25it/s]\n",
      "100%|██████████| 100000/100000 [00:07<00:00, 13726.75it/s]\n",
      "100%|██████████| 100000/100000 [00:08<00:00, 12483.86it/s]\n",
      "100%|██████████| 100000/100000 [00:08<00:00, 12126.23it/s]\n",
      "100%|██████████| 100000/100000 [00:09<00:00, 10787.80it/s]\n"
     ]
    }
   ],
   "source": [
    "step = 1000\n",
    "Q = dict(zip(obs_space, np.zeros((len(obs_space), len(action_list)))))\n",
    "mean_rewards = reward_while_learning(env, action_list, Q, N_ITERS, alpha, eps, gamma, step)"
   ]
  },
  {
   "cell_type": "code",
   "execution_count": 213,
   "metadata": {},
   "outputs": [
    {
     "data": {
      "image/png": "[encoded data removed]",
      "text/plain": [
       "<Figure size 720x504 with 1 Axes>"
      ]
     },
     "metadata": {
      "needs_background": "light"
     },
     "output_type": "display_data"
    }
   ],
   "source": [
    "plot_rewards(mean_rewards, N_ITERS, step)"
   ]
  },
  {
   "cell_type": "markdown",
   "metadata": {},
   "source": [
    "## 3. Часть третья, в главной роли — Дастин Хоффман ##"
   ]
  },
  {
   "cell_type": "code",
   "execution_count": 221,
   "metadata": {},
   "outputs": [],
   "source": [
    "def calc_reward_with_strategy2(env, n_iters, strategy):\n",
    "    rewards = []\n",
    "    n_steps = []\n",
    "    for iterno in tqdm(range(n_iters)):\n",
    "        obs = env.reset()\n",
    "        is_finished = False\n",
    "        #current_points, delaers_points = obs\n",
    "        current_step = 0\n",
    "        current_reward = 0\n",
    "        while not is_finished:\n",
    "            to_hit = strategy[obs]\n",
    "            obs, reward, is_finished, info = env.step(to_hit)\n",
    "            current_reward += reward\n",
    "            current_step += 1\n",
    "            \n",
    "        rewards.append(current_reward)\n",
    "        n_steps.append(current_step)\n",
    "        \n",
    "        rewards.append(current_reward)\n",
    "    return (rewards, n_steps) "
   ]
  },
  {
   "cell_type": "code",
   "execution_count": 214,
   "metadata": {},
   "outputs": [],
   "source": [
    "class BlackjackDoubleCardsCountEnv(gym.Env):\n",
    "    \"\"\"Simple blackjack environment\n",
    "    Blackjack is a card game where the goal is to obtain cards that sum to as\n",
    "    near as possible to 21 without going over.  They're playing against a fixed\n",
    "    dealer.\n",
    "    Face cards (Jack, Queen, King) have point value 10.\n",
    "    Aces can either count as 11 or 1, and it's called 'usable' at 11.\n",
    "    This game is placed with an infinite deck (or with replacement).\n",
    "    The game starts with dealer having one face up and one face down card, while\n",
    "    player having two face up cards. (Virtually for all Blackjack games today).\n",
    "    The player can request additional cards (hit=1) until they decide to stop\n",
    "    (stick=0) or exceed 21 (bust).\n",
    "    After the player sticks, the dealer reveals their facedown card, and draws\n",
    "    until their sum is 17 or greater.  If the dealer goes bust the player wins.\n",
    "    If neither player nor dealer busts, the outcome (win, lose, draw) is\n",
    "    decided by whose sum is closer to 21.  The reward for winning is +1,\n",
    "    drawing is 0, and losing is -1.\n",
    "    The observation of a 3-tuple of: the players current sum,\n",
    "    the dealer's one showing card (1-10 where 1 is ace),\n",
    "    and whether or not the player holds a usable ace (0 or 1).\n",
    "    This environment corresponds to the version of the blackjack problem\n",
    "    described in Example 5.1 in Reinforcement Learning: An Introduction\n",
    "    by Sutton and Barto.\n",
    "    http://incompleteideas.net/book/the-book-2nd.html\n",
    "    \"\"\"\n",
    "\n",
    "    def __init__(self, natural=False, sab=False):\n",
    "        self.action_space = spaces.Discrete(3)\n",
    "        self.observation_space = spaces.Tuple(         # пересчитать пространство для подсчета               \n",
    "            (spaces.Discrete(32), spaces.Discrete(11), spaces.Discrete(2), spaces.Discrete(100))\n",
    "        )\n",
    "        self.seed()\n",
    "        self.standart_deck = [1, 2, 3, 4, 5, 6, 7, 8, 9, 10, 10, 10, 10]\n",
    "        self.deck = self.standart_deck * 4\n",
    "        self.cards_count = 0\n",
    "        self.mathing = {\n",
    "            1: -1,\n",
    "            2: 0.5,\n",
    "            3: 0.5,\n",
    "            4: 1,\n",
    "            5: 1.5,\n",
    "            6: 1,\n",
    "            7: 0.5,\n",
    "            8: 0,\n",
    "            9: -0.5,\n",
    "            10: -1,\n",
    "        }\n",
    "\n",
    "        # Flag to payout 1.5 on a \"natural\" blackjack win, like casino rules\n",
    "        # Ref: http://www.bicyclecards.com/how-to-play/blackjack/\n",
    "        self.natural = natural\n",
    "\n",
    "        # Flag for full agreement with the (Sutton and Barto, 2018) definition. Overrides self.natural\n",
    "        self.sab = sab\n",
    "    \n",
    "    def draw_card(self, np_random):\n",
    "        card = int(np_random.choice(self.deck))\n",
    "        # убрать карту из колоды при раздаче\n",
    "        self.deck.remove(card)\n",
    "#         print(self.deck)\n",
    "        return card\n",
    "\n",
    "    def draw_hand(self, np_random):\n",
    "        return [self.draw_card(np_random), self.draw_card(np_random)]\n",
    "    \n",
    "    def count(self, card):\n",
    "        self.cards_count += self.mathing[card] \n",
    "\n",
    "    def seed(self, seed=None):\n",
    "        self.np_random, seed = seeding.np_random(seed)\n",
    "        return [seed]\n",
    "\n",
    "    def step(self, action):\n",
    "        assert self.action_space.contains(action)\n",
    "        if action == 0:  # hit: add a card to players hand and return\n",
    "            card = self.draw_card(self.np_random)\n",
    "            self.count(card)\n",
    "            self.player.append(card)\n",
    "            if is_bust(self.player):\n",
    "                done = True\n",
    "                reward = -1.0\n",
    "            else:\n",
    "                done = False\n",
    "                reward = 0.0\n",
    "        elif action == 1:  # stick: play out the dealers hand, and score\n",
    "            done = True\n",
    "            while sum_hand(self.dealer) < 17:\n",
    "                self.dealer.append(self.draw_card(self.np_random))\n",
    "            reward = cmp(score(self.player), score(self.dealer))\n",
    "            if self.sab and is_natural(self.player) and not is_natural(self.dealer):\n",
    "                # Player automatically wins. Rules consistent with S&B\n",
    "                reward = 1.0\n",
    "            elif (\n",
    "                not self.sab\n",
    "                and self.natural\n",
    "                and is_natural(self.player)\n",
    "                and reward == 1.0\n",
    "            ):\n",
    "                # Natural gives extra points, but doesn't autowin. Legacy implementation\n",
    "                reward = 1.5\n",
    "            for card in self.dealer[1:]:\n",
    "                self.count(card)      \n",
    "        else: # double: add a card to players hand, end the game, double reward\n",
    "            card = self.draw_card(self.np_random)\n",
    "            self.count(card)\n",
    "            self.player.append(card)\n",
    "            done = True\n",
    "            while sum_hand(self.dealer) < 17:\n",
    "                self.dealer.append(self.draw_card(self.np_random))\n",
    "            for card in self.dealer[1:]:\n",
    "                self.count(card)   \n",
    "            reward = cmp(score(self.player), score(self.dealer)) * 2\n",
    "             \n",
    "        return self._get_obs(), reward, done, {}\n",
    "\n",
    "    def _get_obs(self):\n",
    "        return (sum_hand(self.player), self.dealer[0], usable_ace(self.player), self.cards_count)\n",
    "\n",
    "    def reset(self):\n",
    "        if len(self.deck) < 15:\n",
    "            self.deck = self.standart_deck * 4\n",
    "            self.cards_count = 0\n",
    "        cards = self.draw_hand(self.np_random)\n",
    "        self.dealer = cards\n",
    "        for card in cards:\n",
    "            self.count(card)  \n",
    "        cards = self.draw_hand(self.np_random)\n",
    "        self.player = cards\n",
    "        for card in cards:\n",
    "            self.count(card)  \n",
    "#         print(self.deck)\n",
    "        return self._get_obs()"
   ]
  },
  {
   "cell_type": "code",
   "execution_count": 215,
   "metadata": {},
   "outputs": [],
   "source": [
    "env = BlackjackDoubleCardsCountEnv()\n",
    "env.natural = True\n",
    "\n",
    "action_list = (0, 1, 2)\n",
    "max_count = 4 * (1 * 1.5 + 3 * 0.5 + 2 * 1)\n",
    "min_count = 4 * (4 * (-1) - 0.5 - 1)\n",
    "obs_space = list(itertools.product(range(4, 32), range(1, 12), (True, False), np.arange(min_count, max_count, 0.5)))\n",
    "Q = dict(zip(obs_space, np.zeros((len(obs_space), len(action_list)))))"
   ]
  },
  {
   "cell_type": "code",
   "execution_count": 223,
   "metadata": {},
   "outputs": [],
   "source": [
    "alpha = 0.01\n",
    "eps = 0.1\n",
    "gamma = 0.5"
   ]
  },
  {
   "cell_type": "code",
   "execution_count": 224,
   "metadata": {},
   "outputs": [
    {
     "name": "stderr",
     "output_type": "stream",
     "text": [
      "100%|██████████| 100000/100000 [56:32<00:00, 29.48it/s] \n",
      "100%|██████████| 100000/100000 [00:07<00:00, 13732.87it/s]"
     ]
    },
    {
     "name": "stdout",
     "output_type": "stream",
     "text": [
      "For RL player with counting average reward is -0.077695 in 1.45548 steps\n"
     ]
    },
    {
     "name": "stderr",
     "output_type": "stream",
     "text": [
      "\n"
     ]
    }
   ],
   "source": [
    "Q = Q_learning(env, action_list, Q, N_ITERS, alpha, eps, gamma)\n",
    "strategy = dict(zip(obs_space, np.argmax(list(Q.values()), axis=1)))\n",
    "rl_can_count_player = calc_reward_with_strategy2(env, N_ITERS, strategy)\n",
    "\n",
    "avg_reward = np.mean(rl_can_count_player[0])\n",
    "avg_steps = np.mean(rl_can_count_player[1])\n",
    "print (f\"For RL player with counting average reward is {avg_reward} in {avg_steps} steps\")"
   ]
  },
  {
   "cell_type": "code",
   "execution_count": 228,
   "metadata": {},
   "outputs": [
    {
     "name": "stderr",
     "output_type": "stream",
     "text": [
      "100%|██████████| 100000/100000 [00:07<00:00, 12600.90it/s]\n",
      "100%|██████████| 100000/100000 [00:07<00:00, 12929.60it/s]\n",
      "100%|██████████| 100000/100000 [00:07<00:00, 13377.37it/s]\n",
      "100%|██████████| 100000/100000 [00:07<00:00, 12881.94it/s]\n",
      "100%|██████████| 100000/100000 [00:07<00:00, 12524.36it/s]\n",
      "100%|██████████| 100000/100000 [00:07<00:00, 13345.70it/s]\n",
      "100%|██████████| 100000/100000 [00:07<00:00, 13282.67it/s]\n",
      "100%|██████████| 100000/100000 [00:07<00:00, 13432.78it/s]\n",
      "100%|██████████| 100000/100000 [00:07<00:00, 13647.80it/s]\n",
      "100%|██████████| 100000/100000 [00:07<00:00, 13575.45it/s]\n",
      "100%|██████████| 100000/100000 [00:07<00:00, 13775.33it/s]\n",
      "100%|██████████| 100000/100000 [00:07<00:00, 13614.36it/s]\n",
      "100%|██████████| 100000/100000 [00:06<00:00, 15202.82it/s]\n",
      "100%|██████████| 100000/100000 [00:06<00:00, 16045.45it/s]\n",
      "100%|██████████| 100000/100000 [00:06<00:00, 14309.68it/s]\n",
      "100%|██████████| 100000/100000 [00:06<00:00, 15007.50it/s]\n",
      "100%|██████████| 100000/100000 [00:06<00:00, 14674.02it/s]\n",
      "100%|██████████| 100000/100000 [00:06<00:00, 15417.23it/s]\n",
      "100%|██████████| 100000/100000 [00:06<00:00, 15601.64it/s]\n",
      "100%|██████████| 100000/100000 [00:06<00:00, 16089.71it/s]\n",
      "100%|██████████| 100000/100000 [00:06<00:00, 15484.56it/s]\n",
      "100%|██████████| 100000/100000 [00:05<00:00, 16844.16it/s]\n",
      "100%|██████████| 100000/100000 [00:05<00:00, 17147.86it/s]\n",
      "100%|██████████| 100000/100000 [00:06<00:00, 16570.63it/s]\n",
      "100%|██████████| 100000/100000 [00:06<00:00, 14633.88it/s]\n",
      "100%|██████████| 100000/100000 [00:06<00:00, 14583.39it/s]\n",
      "100%|██████████| 100000/100000 [00:06<00:00, 14599.56it/s]\n",
      "100%|██████████| 100000/100000 [00:06<00:00, 14692.84it/s]\n",
      "100%|██████████| 100000/100000 [00:06<00:00, 14697.05it/s]\n",
      "100%|██████████| 100000/100000 [00:06<00:00, 14626.03it/s]\n",
      "100%|██████████| 100000/100000 [00:06<00:00, 14610.05it/s]\n",
      "100%|██████████| 100000/100000 [00:06<00:00, 14626.28it/s]\n",
      "100%|██████████| 100000/100000 [00:06<00:00, 14660.90it/s]\n",
      "100%|██████████| 100000/100000 [00:06<00:00, 14641.56it/s]\n",
      "100%|██████████| 100000/100000 [00:06<00:00, 14624.85it/s]\n",
      "100%|██████████| 100000/100000 [00:06<00:00, 14566.61it/s]\n",
      "100%|██████████| 100000/100000 [00:06<00:00, 14715.70it/s]\n",
      "100%|██████████| 100000/100000 [00:06<00:00, 14639.97it/s]\n",
      "100%|██████████| 100000/100000 [00:06<00:00, 14614.30it/s]\n",
      "100%|██████████| 100000/100000 [00:06<00:00, 15746.78it/s]\n",
      "100%|██████████| 100000/100000 [00:05<00:00, 17048.23it/s]\n",
      "100%|██████████| 100000/100000 [00:05<00:00, 17201.47it/s]\n",
      "100%|██████████| 100000/100000 [00:06<00:00, 16410.48it/s]\n",
      "100%|██████████| 100000/100000 [00:05<00:00, 17212.56it/s]\n",
      "100%|██████████| 100000/100000 [00:05<00:00, 17089.79it/s]\n",
      "100%|██████████| 100000/100000 [00:05<00:00, 17278.08it/s]\n",
      "100%|██████████| 100000/100000 [00:05<00:00, 17058.87it/s]\n",
      "100%|██████████| 100000/100000 [00:05<00:00, 17055.38it/s]\n",
      "100%|██████████| 100000/100000 [00:05<00:00, 16877.59it/s]\n",
      "100%|██████████| 100000/100000 [00:05<00:00, 17262.25it/s]\n",
      "100%|██████████| 100000/100000 [00:05<00:00, 17119.88it/s]\n",
      "100%|██████████| 100000/100000 [00:05<00:00, 17427.52it/s]\n",
      "100%|██████████| 100000/100000 [00:05<00:00, 17124.72it/s]\n",
      "100%|██████████| 100000/100000 [00:05<00:00, 17016.36it/s]\n",
      "100%|██████████| 100000/100000 [00:05<00:00, 16910.96it/s]\n",
      "100%|██████████| 100000/100000 [00:05<00:00, 17116.06it/s]\n",
      "100%|██████████| 100000/100000 [00:05<00:00, 17152.56it/s]\n",
      "100%|██████████| 100000/100000 [00:05<00:00, 17125.41it/s]\n",
      "100%|██████████| 100000/100000 [00:06<00:00, 15824.50it/s]\n",
      "100%|██████████| 100000/100000 [00:06<00:00, 14704.70it/s]\n",
      "100%|██████████| 100000/100000 [00:06<00:00, 14461.81it/s]\n",
      "100%|██████████| 100000/100000 [00:06<00:00, 14704.05it/s]\n",
      "100%|██████████| 100000/100000 [00:07<00:00, 14059.82it/s]\n",
      "100%|██████████| 100000/100000 [00:06<00:00, 14639.50it/s]\n",
      "100%|██████████| 100000/100000 [00:06<00:00, 14784.49it/s]\n",
      "100%|██████████| 100000/100000 [00:06<00:00, 14782.33it/s]\n",
      "100%|██████████| 100000/100000 [00:06<00:00, 14789.53it/s]\n",
      "100%|██████████| 100000/100000 [00:06<00:00, 14443.92it/s]\n",
      "100%|██████████| 100000/100000 [00:06<00:00, 14496.39it/s]\n",
      "100%|██████████| 100000/100000 [00:06<00:00, 14750.15it/s]\n",
      "100%|██████████| 100000/100000 [00:06<00:00, 14743.30it/s]\n",
      "100%|██████████| 100000/100000 [00:06<00:00, 14763.98it/s]\n",
      "100%|██████████| 100000/100000 [00:06<00:00, 14760.34it/s]\n",
      "100%|██████████| 100000/100000 [00:06<00:00, 14743.49it/s]\n",
      "100%|██████████| 100000/100000 [00:05<00:00, 17154.90it/s]\n",
      "100%|██████████| 100000/100000 [00:05<00:00, 17293.24it/s]\n",
      "100%|██████████| 100000/100000 [00:05<00:00, 16815.27it/s]\n",
      "100%|██████████| 100000/100000 [00:05<00:00, 17144.03it/s]\n",
      "100%|██████████| 100000/100000 [00:05<00:00, 17176.04it/s]\n",
      "100%|██████████| 100000/100000 [00:05<00:00, 17446.81it/s]\n",
      "100%|██████████| 100000/100000 [00:05<00:00, 17023.85it/s]\n",
      "100%|██████████| 100000/100000 [00:05<00:00, 17211.33it/s]\n",
      "100%|██████████| 100000/100000 [00:05<00:00, 17091.10it/s]\n",
      "100%|██████████| 100000/100000 [00:05<00:00, 17319.80it/s]\n",
      "100%|██████████| 100000/100000 [00:05<00:00, 17446.98it/s]\n",
      "100%|██████████| 100000/100000 [00:05<00:00, 17275.57it/s]\n",
      "100%|██████████| 100000/100000 [00:06<00:00, 16553.77it/s]\n",
      "100%|██████████| 100000/100000 [00:06<00:00, 14601.38it/s]\n",
      "100%|██████████| 100000/100000 [00:06<00:00, 14631.62it/s]\n",
      "100%|██████████| 100000/100000 [00:06<00:00, 14734.30it/s]\n",
      "100%|██████████| 100000/100000 [00:06<00:00, 14766.22it/s]\n",
      "100%|██████████| 100000/100000 [00:06<00:00, 14705.94it/s]\n",
      "100%|██████████| 100000/100000 [00:06<00:00, 14688.30it/s]\n",
      "100%|██████████| 100000/100000 [00:07<00:00, 13875.57it/s]\n",
      "100%|██████████| 100000/100000 [00:06<00:00, 14755.19it/s]\n",
      "100%|██████████| 100000/100000 [00:06<00:00, 14744.85it/s]\n",
      "100%|██████████| 100000/100000 [00:06<00:00, 14772.98it/s]\n",
      "100%|██████████| 100000/100000 [00:06<00:00, 14643.10it/s]\n",
      "100%|██████████| 100000/100000 [00:06<00:00, 14569.13it/s]\n",
      "100%|██████████| 100000/100000 [00:06<00:00, 14668.66it/s]\n"
     ]
    }
   ],
   "source": [
    "step = 1000\n",
    "Q = dict(zip(obs_space, np.zeros((len(obs_space), len(action_list)))))\n",
    "mean_rewards = reward_while_learning(env, action_list, Q, N_ITERS, alpha, eps, gamma, step)"
   ]
  },
  {
   "cell_type": "code",
   "execution_count": 230,
   "metadata": {},
   "outputs": [
    {
     "data": {
      "image/png": "[encoded data removed]",
      "text/plain": [
       "<Figure size 720x504 with 1 Axes>"
      ]
     },
     "metadata": {
      "needs_background": "light"
     },
     "output_type": "display_data"
    }
   ],
   "source": [
    "plot_rewards(mean_rewards, N_ITERS, step)"
   ]
  },
  {
   "cell_type": "markdown",
   "metadata": {},
   "source": [
    "## 5. Выводы ##"
   ]
  },
  {
   "cell_type": "markdown",
   "metadata": {},
   "source": [
    "Каждые улучшение стратегии игры приводит к чуть более хорошему результату, но при этом этого все равно не хватет, чтобы обыграть казино"
   ]
  },
  {
   "cell_type": "code",
   "execution_count": null,
   "metadata": {},
   "outputs": [],
   "source": []
  }
 ],
 "metadata": {
  "kernelspec": {
   "display_name": "Python 3",
   "language": "python",
   "name": "python3"
  },
  "language_info": {
   "codemirror_mode": {
    "name": "ipython",
    "version": 3
   },
   "file_extension": ".py",
   "mimetype": "text/x-python",
   "name": "python",
   "nbconvert_exporter": "python",
   "pygments_lexer": "ipython3",
   "version": "3.8.3"
  }
 },
 "nbformat": 4,
 "nbformat_minor": 4
}
